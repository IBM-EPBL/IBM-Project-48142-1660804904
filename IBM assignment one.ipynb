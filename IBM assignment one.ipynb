{
 "cells": [
  {
   "cell_type": "markdown",
   "id": "99297d97",
   "metadata": {},
   "source": [
    "# Basic python"
   ]
  },
  {
   "cell_type": "markdown",
   "id": "b4789734",
   "metadata": {},
   "source": [
    "# 1.Split this String"
   ]
  },
  {
   "cell_type": "code",
   "execution_count": 1,
   "id": "ebdfa63c",
   "metadata": {},
   "outputs": [
    {
     "name": "stdout",
     "output_type": "stream",
     "text": [
      "hi there sam!\n",
      "['hi', 'there', 'sam!']\n"
     ]
    }
   ],
   "source": [
    "single=\"hi there sam!\"\n",
    "print(single)\n",
    "tokens=single.split()\n",
    "print(tokens)\n",
    "\n"
   ]
  },
  {
   "cell_type": "code",
   "execution_count": 2,
   "id": "dd099a87",
   "metadata": {},
   "outputs": [
    {
     "name": "stdout",
     "output_type": "stream",
     "text": [
      "i am studying\n",
      "['i', 'am', 'studying']\n"
     ]
    }
   ],
   "source": [
    "hello=\"i am studying\"\n",
    "print(hello)\n",
    "hi=hello.split()\n",
    "print(hi)\n"
   ]
  },
  {
   "cell_type": "markdown",
   "id": "f93d1c77",
   "metadata": {},
   "source": [
    "# 2.Use .format() to print the following string\n",
    "\n",
    "output should be:The diameter of earth is 12742"
   ]
  },
  {
   "cell_type": "code",
   "execution_count": 6,
   "id": "c051e3ec",
   "metadata": {},
   "outputs": [],
   "source": [
    "planet=\"Earth\"\n",
    "diameter=12742"
   ]
  },
  {
   "cell_type": "code",
   "execution_count": 7,
   "id": "5b381cbe",
   "metadata": {},
   "outputs": [
    {
     "name": "stdout",
     "output_type": "stream",
     "text": [
      "the diameter of Earth is 12742 kilometers.\n"
     ]
    }
   ],
   "source": [
    "print('the diameter of {} is {} kilometers.' . format(planet,diameter));"
   ]
  },
  {
   "cell_type": "markdown",
   "id": "2988b62d",
   "metadata": {},
   "source": [
    "# 3.In this nest dictionary grab the world\"hello\" "
   ]
  },
  {
   "cell_type": "code",
   "execution_count": 41,
   "id": "9905da76",
   "metadata": {
    "scrolled": true
   },
   "outputs": [
    {
     "name": "stdout",
     "output_type": "stream",
     "text": [
      "hello\n"
     ]
    }
   ],
   "source": [
    "d = {'k1':[1,2,3,{'tricky':['oh','man','inception',{'target':[1,2,3,'hello']}]}]}\n",
    "lst = [1,2,[3,4],[5,[100,200,['hello']],23,11],1,7]\n",
    "print(lst[3][1][2][0])"
   ]
  },
  {
   "cell_type": "code",
   "execution_count": 31,
   "id": "46ccccee",
   "metadata": {},
   "outputs": [
    {
     "name": "stdout",
     "output_type": "stream",
     "text": [
      "hello\n"
     ]
    }
   ],
   "source": [
    "print(d['k1'][3]['tricky'][3]['target'][3])"
   ]
  },
  {
   "cell_type": "code",
   "execution_count": 9,
   "id": "8b4fe0fd",
   "metadata": {},
   "outputs": [
    {
     "name": "stdout",
     "output_type": "stream",
     "text": [
      "[1 2 3 4 5]\n"
     ]
    }
   ],
   "source": [
    "import numpy as np\n",
    "arr = np.array([1,2,3,4,5])\n",
    "print(arr)\n"
   ]
  },
  {
   "cell_type": "markdown",
   "id": "a0108a56",
   "metadata": {},
   "source": [
    "# 4.1 Create an array of 10 zeros?"
   ]
  },
  {
   "cell_type": "markdown",
   "id": "2b722ba5",
   "metadata": {},
   "source": [
    "# 4.2 Create an array of 10 fives?"
   ]
  },
  {
   "cell_type": "code",
   "execution_count": 10,
   "id": "d1002cdf",
   "metadata": {},
   "outputs": [
    {
     "name": "stdout",
     "output_type": "stream",
     "text": [
      "An array of 10 zeros:\n",
      "[0. 0. 0. 0. 0. 0. 0. 0. 0. 0.]\n"
     ]
    }
   ],
   "source": [
    "import numpy as np\n",
    "array=np.zeros(10)\n",
    "print(\"An array of 10 zeros:\")\n",
    "print(array)"
   ]
  },
  {
   "cell_type": "code",
   "execution_count": 12,
   "id": "f5319472",
   "metadata": {},
   "outputs": [
    {
     "name": "stdout",
     "output_type": "stream",
     "text": [
      "An array of  fives:\n",
      "[5. 5. 5. 5. 5. 5. 5. 5. 5. 5.]\n"
     ]
    }
   ],
   "source": [
    "import numpy as np\n",
    "array=np.ones(10)*5\n",
    "print(\"An array of  fives:\")\n",
    "print(array)"
   ]
  },
  {
   "cell_type": "markdown",
   "id": "cdb431e6",
   "metadata": {},
   "source": [
    "# 5.Create an array of all the even integers from 20 to 35"
   ]
  },
  {
   "cell_type": "code",
   "execution_count": 13,
   "id": "b4d22314",
   "metadata": {},
   "outputs": [
    {
     "name": "stdout",
     "output_type": "stream",
     "text": [
      "Array of all the even integers from 20 to 35\n",
      "[20 22 24 26 28 30 32 34]\n"
     ]
    }
   ],
   "source": [
    "import numpy as np\n",
    "array=np.arange(20,35,2)\n",
    "print(\"Array of all the even integers from 20 to 35\")\n",
    "print(array)"
   ]
  },
  {
   "cell_type": "markdown",
   "id": "9de88d50",
   "metadata": {},
   "source": [
    "# 6.Create a 3x3 matrix with values ranging from 0 to 8"
   ]
  },
  {
   "cell_type": "code",
   "execution_count": 14,
   "id": "0cae2460",
   "metadata": {},
   "outputs": [
    {
     "name": "stdout",
     "output_type": "stream",
     "text": [
      "[[0 1 2]\n",
      " [3 4 5]\n",
      " [6 7 8]]\n"
     ]
    }
   ],
   "source": [
    "import numpy as np\n",
    "x =  np.arange(0, 9).reshape(3,3)\n",
    "print(x)"
   ]
  },
  {
   "cell_type": "markdown",
   "id": "db8d9f82",
   "metadata": {},
   "source": [
    "# 7.Concatenate a and b\n",
    "\n",
    " a=np.array([1,2,3]),b=np.array([4,5,6])"
   ]
  },
  {
   "cell_type": "code",
   "execution_count": 15,
   "id": "a2c93043",
   "metadata": {},
   "outputs": [
    {
     "name": "stdout",
     "output_type": "stream",
     "text": [
      "[5 7 9]\n"
     ]
    }
   ],
   "source": [
    "import numpy as np\n",
    "a=np.array([1,2,3])\n",
    "b=np.array([4,5,6])\n",
    "c=a+b\n",
    "print(c)"
   ]
  },
  {
   "cell_type": "markdown",
   "id": "4e0b7a40",
   "metadata": {},
   "source": [
    "# 8.Create a database with 3 rows and 2 columns"
   ]
  },
  {
   "cell_type": "code",
   "execution_count": 1,
   "id": "20f82a7b",
   "metadata": {},
   "outputs": [
    {
     "name": "stdout",
     "output_type": "stream",
     "text": [
      "    Name  Age\n",
      "0    tom   15\n",
      "1  jerry   20\n",
      "2   juli   23\n"
     ]
    }
   ],
   "source": [
    "import pandas as pd\n",
    "data = [['tom',15], ['jerry',20], ['juli',23]]\n",
    "df = pd.DataFrame(data, columns=['Name','Age'])\n",
    "print(df)"
   ]
  },
  {
   "cell_type": "code",
   "execution_count": 2,
   "id": "bd868ee8",
   "metadata": {},
   "outputs": [
    {
     "name": "stdout",
     "output_type": "stream",
     "text": [
      "  players  numbers\n",
      "0    yosh       15\n",
      "1   vicky       21\n",
      "2   maddy       19\n"
     ]
    }
   ],
   "source": [
    "import pandas as pd\n",
    "data = [['yosh',15], ['vicky',21], ['maddy',19]]\n",
    "df = pd.DataFrame(data, columns=['players','numbers'])\n",
    "print(df)"
   ]
  },
  {
   "cell_type": "markdown",
   "id": "ff63694d",
   "metadata": {},
   "source": [
    "# 9.Generate the series of dates from 1st jan,2023 to 10th feb,2023"
   ]
  },
  {
   "cell_type": "code",
   "execution_count": 26,
   "id": "e1b658ab",
   "metadata": {},
   "outputs": [
    {
     "data": {
      "text/plain": [
       "DatetimeIndex(['2023-01-01', '2023-01-02', '2023-01-03', '2023-01-04',\n",
       "               '2023-01-05', '2023-01-06', '2023-01-07', '2023-01-08',\n",
       "               '2023-01-09', '2023-01-10',\n",
       "               ...\n",
       "               '2023-09-23', '2023-09-24', '2023-09-25', '2023-09-26',\n",
       "               '2023-09-27', '2023-09-28', '2023-09-29', '2023-09-30',\n",
       "               '2023-10-01', '2023-10-02'],\n",
       "              dtype='datetime64[ns]', length=275, freq='D')"
      ]
     },
     "execution_count": 26,
     "metadata": {},
     "output_type": "execute_result"
    }
   ],
   "source": [
    "import pandas as pd\n",
    "pd.date_range(\"01-01-23\",\"10-02-23\")"
   ]
  },
  {
   "cell_type": "markdown",
   "id": "c9498667",
   "metadata": {},
   "source": [
    "# 10. Create 2D list to DataFrame\n",
    "lists = [[1, 'aaa', 22], [2, 'bbb', 25], [3, 'ccc', 24]]"
   ]
  },
  {
   "cell_type": "code",
   "execution_count": 3,
   "id": "a4b563b2",
   "metadata": {},
   "outputs": [],
   "source": [
    "lists = [[1, 'aaa', 22], [2, 'bbb', 25], [3, 'ccc', 24]]"
   ]
  },
  {
   "cell_type": "code",
   "execution_count": null,
   "id": "9803a21d",
   "metadata": {},
   "outputs": [],
   "source": []
  }
 ],
 "metadata": {
  "kernelspec": {
   "display_name": "Python 3 (ipykernel)",
   "language": "python",
   "name": "python3"
  },
  "language_info": {
   "codemirror_mode": {
    "name": "ipython",
    "version": 3
   },
   "file_extension": ".py",
   "mimetype": "text/x-python",
   "name": "python",
   "nbconvert_exporter": "python",
   "pygments_lexer": "ipython3",
   "version": "3.9.12"
  }
 },
 "nbformat": 4,
 "nbformat_minor": 5
}
